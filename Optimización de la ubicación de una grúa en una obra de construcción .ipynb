{
 "cells": [
  {
   "cell_type": "markdown",
   "id": "3574aee7-2f62-4b83-bbf3-c1976a7982f5",
   "metadata": {},
   "source": [
    "# Optimización de la ubicación de una grúa en una obra de construcción \n",
    "## Santiago Padilla Arias \n",
    "## 28/11/2024\n",
    "![](ITESO.png)"
   ]
  },
  {
   "cell_type": "markdown",
   "id": "8364705d-ad2e-45bf-bbca-ee1d35c19ba2",
   "metadata": {},
   "source": [
    "### Introducción "
   ]
  },
  {
   "cell_type": "markdown",
   "id": "5d404e63-4700-4262-9fd0-b4fe6fa0c9ce",
   "metadata": {},
   "source": [
    "Este problema impacta y se relaciona en mi carrera desde la cuestión del diseño de una estructura que es el punto que hace que se necesite de una grúa torre, cuestiones de logística, puesto que todos sabemos que el tiempo es oro y en la obra no es la excepción. Es por lo que en las construcciones de gran magnitud (en las que requieres grúa) si se ubica de manera adecuada afecta de manera directa (puede afectar de forma positiva o negativa) la eficiencia y por ende los costos de la obra. \r\n"
   ]
  },
  {
   "cell_type": "markdown",
   "id": "19b47541-46ca-4631-bdc4-371199553170",
   "metadata": {},
   "source": [
    "Con este proyecto se busca optimizar la posición de una grúa para facilitar el transporte de materiales lo que a su vez minimiza el tiempo que se emplea en esta actividad."
   ]
  },
  {
   "cell_type": "markdown",
   "id": "968781b6-8a6c-438e-b1b5-2e06b8c61b8c",
   "metadata": {},
   "source": [
    "### Marco teórico"
   ]
  },
  {
   "cell_type": "markdown",
   "id": "cf7137c2-0456-4c9a-a0dd-1503462c2d9a",
   "metadata": {},
   "source": [
    "- Optimización no convexa: Este termino se refiere a una función objetivo que tiene más de una solución optima (es decir no solo hay una mejor opción, sino que hay varias “mejores opciones”)\n",
    "- Funciones de costo: Ayudan a estimar el tiempo, en base a esto simulan un hipotético costo y a su vez evalúan la eficiencia en este caso en relación con la grúa.\n",
    "- Restricciones: Son las limitantes que tiene el problema para poder encontrar lo óptimo, en el caso del proyecto esta el área donde se esta trabajando, la capacidad de carga que tiene la grúa y las zonas que no puede invadir la grúa."
   ]
  },
  {
   "cell_type": "markdown",
   "id": "098c9709-ae2f-4ce0-b3bc-d8e2cec9d8b1",
   "metadata": {},
   "source": [
    "### Objetivo"
   ]
  },
  {
   "cell_type": "markdown",
   "id": "9c8bf734-4091-41e2-93ae-658d8d7cb2a6",
   "metadata": {},
   "source": [
    "#### Generales "
   ]
  },
  {
   "cell_type": "markdown",
   "id": "4627d452-63f8-4799-bbb2-24bdd5fb1145",
   "metadata": {
    "scrolled": true
   },
   "source": [
    "Optimizar la ubicación de la grúa en una obra para minimizar el tiempo y costo del transporte de materiales."
   ]
  },
  {
   "cell_type": "markdown",
   "id": "e29f6c5f-fe87-4a26-bc95-fe7063804a1b",
   "metadata": {},
   "source": [
    "#### Específicos"
   ]
  },
  {
   "cell_type": "markdown",
   "id": "7830874a-8468-4019-b516-fcac4723eacc",
   "metadata": {},
   "source": [
    "- Identificar los puntos de carga y descarga\n",
    "- Definir una función de costo\n",
    "- Identificar los puntos donde no se puede pasar para tomarse en cuenta al optimizar\n",
    "- Comprobar con un experto si lo que arroge la programación tiene sentido "
   ]
  },
  {
   "cell_type": "markdown",
   "id": "fe39fc9a-c286-43a7-8d94-bd03086bf71b",
   "metadata": {},
   "source": [
    "### Simulación y optimización del modelo"
   ]
  },
  {
   "cell_type": "code",
   "execution_count": 133,
   "id": "ea1b9959-0599-4e12-9fb3-6db716f0cda6",
   "metadata": {},
   "outputs": [],
   "source": [
    "import numpy as np\n",
    "from scipy.optimize import minimize\n",
    "import matplotlib.pyplot as plt\n",
    "\n",
    "limites_area = [(0, 150), (0, 150)] \n",
    "# Límites del área de construcción [(x), (y)], del lado izquierdo mínimo y derecha máximo\n",
    "puntos_clave = np.array([[110, 10], [40, 140], [25, 75], [90, 30]])\n",
    "# Coordenadas de los puntos clave \n",
    "# Puntos clave se refiere a todo aquel lugar de donde se requiere tomar material (cargar) o donde se deje material (descargar)\n",
    "# De manera breve puntos clave es la zona de carga y descarga\n",
    "pesos = np.array([1.5, 1.0, 2.0, 1.0]) \n",
    "# Mientras algo sea más pesado es más importante que la grúa este cerca\n",
    "# Se debe priorizar que la grua este cerca de los objetos más pesados\n",
    "\n",
    "\n",
    "def calcular_costo(coordenadas):\n",
    "    x_grua, y_grua = coordenadas  # Coordenadas actuales de la grúa\n",
    "    costo_total = 0 # El costo debe iniciarse\n",
    "    for i, (x_punto, y_punto) in enumerate(puntos_clave):\n",
    "        distancia = np.sqrt((x_grua - x_punto)**2 + (y_grua - y_punto)**2)  # Distancia a cada punto\n",
    "        costo_total += pesos[i] * distancia  # Sumar la distancia \n",
    "    return costo_total\n",
    "\n",
    "prediccion = [25, 25]  \n",
    "# Donde se cree que estaría bien poner la grua, para pdoer tener un punto de partida\n",
    "# En este caso yo pongo literalmente el medio del predio\n",
    "resultado = minimize(\n",
    "    calcular_costo,  # Lo que se desea calcular\n",
    "    prediccion,   # El punto donde originalmente esta la grua\n",
    "    bounds=limites_area,  # los límites donde se puede colocar la grua\n",
    "    method='SLSQP'   # Método de optimización\n",
    ")\n",
    "# El paso de bounds= se puso porque si no el codigo no funcionaba\n",
    "# y tambien lo de method, lo añadi con chat porque me trabe y no sabía como hacer que funcionará\n"
   ]
  },
  {
   "cell_type": "code",
   "execution_count": 134,
   "id": "ad9ecf02-6ad6-4c6c-9e29-e126909c2b62",
   "metadata": {},
   "outputs": [
    {
     "name": "stdout",
     "output_type": "stream",
     "text": [
      "Ubicación óptima:\n",
      "[40.53174549 70.02711231]\n"
     ]
    }
   ],
   "source": [
    "ubicacion_optima = resultado.x \n",
    "print(\"Ubicación óptima:\")\n",
    "print( ubicacion_optima)"
   ]
  },
  {
   "cell_type": "code",
   "execution_count": 135,
   "id": "66a23f77-d357-49ee-a4ab-2993338bfb99",
   "metadata": {},
   "outputs": [
    {
     "name": "stdout",
     "output_type": "stream",
     "text": [
      "Costo mínimo:\n",
      "303.9408300069547\n"
     ]
    }
   ],
   "source": [
    "print(\"Costo mínimo:\")\n",
    "print(resultado.fun)"
   ]
  },
  {
   "cell_type": "code",
   "execution_count": 136,
   "id": "ffb1bc04-72cf-47ac-a19a-bfd4e07ed823",
   "metadata": {},
   "outputs": [
    {
     "data": {
      "image/png": "[encoded data removed]",
      "text/plain": [
       "<Figure size 1000x1000 with 1 Axes>"
      ]
     },
     "metadata": {},
     "output_type": "display_data"
    }
   ],
   "source": [
    "plt.figure(figsize=(10, 10))\n",
    "plt.scatter(puntos_clave[:, 0], puntos_clave[:, 1], color='red', label='Puntos clave')\n",
    "plt.scatter(ubicacion_optima[0], ubicacion_optima[1], color='blue', label='Grúa óptima')\n",
    "plt.title(\"Optimización de ubicación de la grúa\")\n",
    "plt.xlabel(\"x\")\n",
    "plt.ylabel(\"y\")\n",
    "plt.grid()\n",
    "plt.show()"
   ]
  },
  {
   "cell_type": "markdown",
   "id": "6df73f1c-2423-429c-af02-c9bce2567cb1",
   "metadata": {},
   "source": [
    "### Interpretación de los resultados"
   ]
  },
  {
   "cell_type": "markdown",
   "id": "9ea713f4-44e1-4177-9d84-bd19d21fe394",
   "metadata": {},
   "source": [
    "Los resultados nos hacen ver que si tiene una ubicación óptima la grúa, pero no es posible hacerlo con el simple hecho de buscar el centro de los puntos planteados pues debe considerarse que se busca mínimizar el costo, además hay que cumplir con el área de trabajo delimitada y claramente considerar que hay objetos más pesados que otros y que en algunos casos es posible que el peso ese pueda derribar la grúa o quizá no algo tan grave pero si afectaría su funcionamiento lo que a su vez afectaría los tiempos de la obra y eso significa perdidas de dinero para el cliente y para el contratista en cuestión."
   ]
  },
  {
   "cell_type": "markdown",
   "id": "624966fc-3cdf-4919-bcb6-ff9027a714fa",
   "metadata": {},
   "source": [
    "### Conclusiones"
   ]
  },
  {
   "cell_type": "markdown",
   "id": "8efa16bc-65e1-402a-a88d-edc76090206e",
   "metadata": {},
   "source": [
    "Este proyecto final me permitió darme cuenta que a pesar de que no fuera una clase que se me facilita o que me gustará mucho, poco a poco fui tomandole gusto por cosas como este proyecto. Ya que poco a poco fui dandome cuenta que estos conocimientos abarcaban los calculos, la estadistica, el algebra, la programación y todo eso lo tomaban y lo acercaban a mi carrera."
   ]
  },
  {
   "cell_type": "markdown",
   "id": "3ffc718f-bc7a-4b83-9c8a-ce788d8527bc",
   "metadata": {},
   "source": [
    "En cuanto a conclusiones sobre el proyecto, se estuvieron realizando varias pruebas junto con el ingeniero y arquitecto mencionados al final y primero se usaron datos \"reales\" de algunas obras en las que participaron (con lo que recordaban ya que era imposible recordar todos los detalles con exactitud) y se pudo ver que tenía sentido las ubicaciones que daba la prgogramación y luego se probó con algunos predios más grandes y con ubicaciones más alejadas entre las zonas de carga y descarga, lo cual hizo que con el conocimiento que llevo de la carrera y con la experiencia de los dos expertos que consulté todos llegamos al mismo punto, si este tipo de cosas fueran implementadas más seguido y en más áreas de la construcción "
   ]
  },
  {
   "cell_type": "markdown",
   "id": "65075e1b-f961-4266-ae63-fb2e5e9b2227",
   "metadata": {},
   "source": [
    "### Referencias"
   ]
  },
  {
   "cell_type": "markdown",
   "id": "dcd2e131-9dca-4042-ad54-71a17af06e3c",
   "metadata": {},
   "source": [
    "- Bazaraa, M. S., Sherali, H. D., & Shetty, C. M. (2013). Nonlinear Programming: Theory and Algorithms. Wiley-Interscience.\n",
    "- Boyd, S., & Vandenberghe, L. (2004). Convex Optimization. Cambridge University Press.\n",
    "- Dantzig, G. B. (1998). Linear Programming and Extensions. Princeton University Press.\n",
    "- SciPy. (2024). scipy.optimize.minimize documentation. Disponible en: https://docs.scipy.org/doc/scipy/\n",
    "- Taha, H. A. (2017). Operations Research: An Introduction. Pearson Education.\n",
    "- Comunicación personal con Ing. Javier Lomelín (02 de diciembre de 2024)\n",
    "- Comunicación personal con Arq. Carlos Padilla (02 de diciembre de 2024)\n",
    "- García, L. (2020). \"Métodos de optimización en problemas reales\". Universidad Politécnica de Valencia. Disponible en: https://www.upv.es/\n",
    "- INGENIOXYZ (2021). \"Optimización en la ingeniería civil: aplicaciones y ejemplos\". Disponible en: https://www.ingenioxyz.com/\n",
    "- Hernández, P. (2019). \"Uso de Python en problemas de optimización\". Blog Ciencia de Datos. Disponible en: https://cienciadedatos.net/\n",
    "- Aguilar, J. (2022). \"Optimización logística en proyectos de construcción\". Revista Ingeniería y Desarrollo. Disponible en: https://www.revistaingenieria.com/\n",
    "- SciPy (2023). \"Documentación oficial de SciPy en español\". Disponible en: https://scipy.github.io/devdocs/\n",
    "- Rodríguez, M. (2018). \"Métodos heurísticos y su aplicación en logística\". Universidad Nacional Autónoma de México (UNAM). Disponible en: http://www.unam.mx/\n",
    "- Ruiz, C. (2021). \"Aplicaciones prácticas de la optimización en la construcción\". Arquitectura Civil Online. Disponible en: https://arquitecturacivilonline.com/\n"
   ]
  },
  {
   "cell_type": "code",
   "execution_count": 144,
   "id": "929cb4ee-ec6f-4b24-b58d-eed16a8c1e0c",
   "metadata": {},
   "outputs": [],
   "source": [
    "# Evidentemente no tome cosas tal cual de todas las fuentes, pero estuve leyendo porque me atoraba entonces quizá tome cosas sin darme cuenta\n",
    "# Por lo que no quiero apropiarme de algo que no es mío como tal"
   ]
  }
 ],
 "metadata": {
  "kernelspec": {
   "display_name": "Python 3 (ipykernel)",
   "language": "python",
   "name": "python3"
  },
  "language_info": {
   "codemirror_mode": {
    "name": "ipython",
    "version": 3
   },
   "file_extension": ".py",
   "mimetype": "text/x-python",
   "name": "python",
   "nbconvert_exporter": "python",
   "pygments_lexer": "ipython3",
   "version": "3.12.4"
  }
 },
 "nbformat": 4,
 "nbformat_minor": 5
}
